{
 "cells": [
  {
   "cell_type": "code",
   "execution_count": 1,
   "metadata": {},
   "outputs": [],
   "source": [
    "from wyx_joint import *\n",
    "from astropy.io import fits\n",
    "\n",
    "import numpy as np\n",
    "import matplotlib.pyplot as plt"
   ]
  },
  {
   "cell_type": "code",
   "execution_count": 3,
   "metadata": {},
   "outputs": [
    {
     "data": {
      "text/plain": [
       "XTENSION= 'IMAGE   '           / Image extension                                \n",
       "BITPIX  =                  -64 / array data type                                \n",
       "NAXIS   =                    3 / number of array dimensions                     \n",
       "NAXIS1  =                   50                                                  \n",
       "NAXIS2  =                   40                                                  \n",
       "NAXIS3  =                    5                                                  \n",
       "PCOUNT  =                    0 / number of parameters                           \n",
       "GCOUNT  =                    1 / number of groups                               \n",
       "WCSAXES =                    2 / Number of coordinate axes                      \n",
       "CRPIX1  =                 25.5 / Pixel coordinate of reference point            \n",
       "CRPIX2  =                 20.5 / Pixel coordinate of reference point            \n",
       "CDELT1  =                 -0.1 / [deg] Coordinate increment at reference point  \n",
       "CDELT2  =                  0.1 / [deg] Coordinate increment at reference point  \n",
       "CUNIT1  = 'deg'                / Units of coordinate increment and value        \n",
       "CUNIT2  = 'deg'                / Units of coordinate increment and value        \n",
       "CTYPE1  = 'GLON-CAR'           / galactic longitude, plate caree projection     \n",
       "CTYPE2  = 'GLAT-CAR'           / galactic latitude, plate caree projection      \n",
       "CRVAL1  =      184.55288350739 / [deg] Coordinate value at reference point      \n",
       "CRVAL2  =     -5.7814513533684 / [deg] Coordinate value at reference point      \n",
       "LONPOLE =                180.0 / [deg] Native longitude of celestial pole       \n",
       "LATPOLE =      84.218548646632 / [deg] Native latitude of celestial pole        \n",
       "AXCOLS1 = 'E_MIN,E_MAX'                                                         \n",
       "INTERP1 = 'log     '                                                            \n",
       "WCSSHAPE= '(50,40,5)'                                                           \n",
       "BANDSHDU= 'COUNTS_BANDS'                                                        \n",
       "EXTNAME = 'COUNTS  '           / extension name                                 \n",
       "META    = '{}      '                                                            \n",
       "BUNIT   = ''                                                                    "
      ]
     },
     "execution_count": 3,
     "metadata": {},
     "output_type": "execute_result"
    }
   ],
   "source": [
    "fname = \"Fermi-LAT-3FHL_data_Fermi-LAT.fits\"\n",
    "hdul=fits.open(fname)\n",
    "\n",
    "counts=hdul[\"COUNTS\"].data\n",
    "exposure = hdul[\"EXPOSURE\"].data\n",
    "background = hdul[\"BACKGROUND\"].data\n",
    "hdul['COUNTS'].header"
   ]
  },
  {
   "cell_type": "code",
   "execution_count": 8,
   "metadata": {},
   "outputs": [
    {
     "name": "stdout",
     "output_type": "stream",
     "text": [
      "Optimization terminated successfully.\n",
      "         Current function value: 1091.209030\n",
      "         Iterations: 307\n",
      "         Function evaluations: 553\n"
     ]
    }
   ],
   "source": [
    "skydir=(0,0)\n",
    "width=(4,5)\n",
    "binsz=hdul['COUNTS'].header[\"CDELT2\"] \n",
    "test_model=GaussianSpatialModel(0.2,skydir,width,binsz)\n",
    "\n",
    "energy_axes=PowerLawSpctralModel(1e-10,-2,name='Energy')\n",
    "energy_axes.make_edges(width=(np.log10(0.01),np.log10(2)),num=6)\n",
    "\n",
    "test_map=MapModel(geom=test_model,axes=energy_axes,exposure=exposure,background=background)\n",
    "res=test_map.fit(counts)"
   ]
  },
  {
   "cell_type": "code",
   "execution_count": 9,
   "metadata": {},
   "outputs": [
    {
     "data": {
      "text/plain": [
       "Text(0.5, 1.0, 'real')"
      ]
     },
     "execution_count": 9,
     "metadata": {},
     "output_type": "execute_result"
    },
    {
     "data": {
      "image/png": "[encoded data removed]",
      "text/plain": [
       "<Figure size 864x288 with 4 Axes>"
      ]
     },
     "metadata": {
      "needs_background": "light"
     },
     "output_type": "display_data"
    }
   ],
   "source": [
    "fig=plt.figure(figsize=(12,4))\n",
    "ax=plt.subplot(1,2,1)\n",
    "pred_counts=test_map.predict()\n",
    "plt.imshow(pred_counts.sum(axis=0))\n",
    "plt.colorbar()\n",
    "plt.title('pred')\n",
    "\n",
    "ax=plt.subplot(1,2,2)\n",
    "plt.imshow(counts.sum(axis=0))\n",
    "plt.colorbar()\n",
    "plt.title('real')"
   ]
  },
  {
   "cell_type": "code",
   "execution_count": 10,
   "metadata": {},
   "outputs": [
    {
     "data": {
      "image/png": "[encoded data removed]",
      "text/plain": [
       "<Figure size 432x288 with 1 Axes>"
      ]
     },
     "metadata": {
      "needs_background": "light"
     },
     "output_type": "display_data"
    }
   ],
   "source": [
    "test_map.plot_flux(counts)"
   ]
  },
  {
   "cell_type": "code",
   "execution_count": null,
   "metadata": {},
   "outputs": [],
   "source": []
  },
  {
   "cell_type": "code",
   "execution_count": null,
   "metadata": {},
   "outputs": [],
   "source": []
  },
  {
   "cell_type": "code",
   "execution_count": null,
   "metadata": {},
   "outputs": [],
   "source": []
  },
  {
   "cell_type": "code",
   "execution_count": null,
   "metadata": {},
   "outputs": [],
   "source": []
  },
  {
   "cell_type": "code",
   "execution_count": null,
   "metadata": {},
   "outputs": [],
   "source": []
  }
 ],
 "metadata": {
  "kernelspec": {
   "display_name": "Python 3",
   "language": "python",
   "name": "python3"
  },
  "language_info": {
   "codemirror_mode": {
    "name": "ipython",
    "version": 3
   },
   "file_extension": ".py",
   "mimetype": "text/x-python",
   "name": "python",
   "nbconvert_exporter": "python",
   "pygments_lexer": "ipython3",
   "version": "3.7.0"
  }
 },
 "nbformat": 4,
 "nbformat_minor": 2
}
