{
 "cells": [
  {
   "cell_type": "code",
   "execution_count": 1,
   "metadata": {},
   "outputs": [],
   "source": [
    "from joint import read, crab_skymodel, plot_cube, get_likelihood, get_pred_cube\n",
    "import astropy.units as u\n",
    "import numpy as np\n",
    "import matplotlib.pyplot as plt"
   ]
  },
  {
   "cell_type": "code",
   "execution_count": 64,
   "metadata": {},
   "outputs": [
    {
     "name": "stdout",
     "output_type": "stream",
     "text": [
      "data: -3.022E+02\n",
      "guess: -5.790E+05\n"
     ]
    }
   ],
   "source": [
    "fname = \"Fermi-LAT-3FHL_data_Fermi-LAT.fits\"\n",
    "fermi_hdul = read(fname)\n",
    "\n",
    "# Log interpolation, center = (lo * hi)^0.5\n",
    "energy_center = fermi_hdul[\"COUNTS_BANDS\"].data.field(1) * u.TeV\n",
    "energy_lo = fermi_hdul[\"COUNTS_BANDS\"].data.field(2) * u.TeV\n",
    "energy_hi = fermi_hdul[\"COUNTS_BANDS\"].data.field(3) * u.TeV\n",
    "# BANDS are the same for COUNTS, BKG, PSF, so just assign once here\n",
    "exposure = fermi_hdul[\"EXPOSURE\"].data\n",
    "background = fermi_hdul[\"BACKGROUND\"].data\n",
    "counts = fermi_hdul[\"COUNTS\"].data\n",
    "\n",
    "# Read deltx and delty from FITS \n",
    "deltx = fermi_hdul[\"COUNTS\"].header[\"CDELT1\"] \n",
    "delty = fermi_hdul[\"COUNTS\"].header[\"CDELT2\"] \n",
    "dx_edges = np.linspace(-25, 25, 51) * u.degree * deltx\n",
    "dy_edges = np.linspace(-20, 20, 41) * u.degree * delty\n",
    "# Use averge value for position center coordinate\n",
    "dx = (dx_edges[:-1] + dx_edges[1:]) / 2\n",
    "dy = (dy_edges[:-1] + dy_edges[1:]) / 2\n",
    "# test_likelihood = get_likelihood((energy_center, dx, dy), crab_skymodel, **test_parameter)\n",
    "guess_parameter = {\"prefactor\": 1e-10, \"index\": -3.18, \"sigma\": 0.5 * u.degree}\n",
    "guess_pred = get_pred_cube((energy_center, dx, dy), crab_skymodel,\\\n",
    "                            exposure, background, **guess_parameter)\n",
    "guess_likelihood = get_likelihood(guess_pred, counts)\n",
    "print(f\"data: {get_likelihood(counts, counts):.3E}\\n\"\n",
    "       f\"guess: {guess_likelihood:.3E}\")\n",
    "# dx = np.arange()  \n",
    "# dy = np.arange()  \n",
    "# dx = np.linspace(-1, 1, 50) * u.degree\n",
    "# dy = np.linspace(-1, 1, 40) * u.degree\n",
    "# axes = (energy_center, dx, dy)\n",
    "# pred_cube = crab_skymodel(axes, **test_parameter)\n",
    "# test_slice = slice(5) \n",
    "\n",
    "# fig, axs = plot_cube(pred_cube, test_slice)\n",
    "# axs[-1].lines[0].set_xdata(energy_center)\n",
    "# axs[-1].set_xlim(energy_lo[0].value, energy_hi[-1].value)\n",
    "# axs[-1].set_xlabel(\"TeV\")\n",
    "# fig.savefig(f\"test_pred_cube_σ{sigma}.png\", dpi=500)\n",
    "# fig1, axs1 = plot_cube(background, test_slice)\n",
    "# axs1[-1].lines[0].set_xdata(energy_center)\n",
    "# axs1[-1].set_xlim(energy_lo[0].value, energy_hi[-1].value)\n",
    "# axs1[-1].set_xlabel(\"TeV\")\n",
    "# fig1.savefig(f\"test_bkg_cube_σ{sigma}.png\", dpi=500)\n",
    "\n",
    "# fig.savefig(f\"test_pred_cube_σ{test_parameter[\"sigma\"]}.png\", dpi=500)"
   ]
  },
  {
   "cell_type": "markdown",
   "metadata": {},
   "source": [
    "## 使用scipy.optimize.minimize方法最优化"
   ]
  },
  {
   "cell_type": "code",
   "execution_count": 98,
   "metadata": {},
   "outputs": [],
   "source": [
    "from scipy.optimize import minimize\n",
    "\n",
    "def func(x):\n",
    "    # 无量纲化\n",
    "    \n",
    "    keys=[\"prefactor\", \"index\", \"sigma\"]\n",
    "    guess_parameter=dict(zip(keys,x))\n",
    "    test_dx,test_dy=np.asarray(dx),np.asarray(dy)    \n",
    "    \n",
    "    guess_pred = get_pred_cube((energy_center, test_dx,test_dy), crab_skymodel,\\\n",
    "                            exposure, background, **guess_parameter)\n",
    "    guess_likelihood = get_likelihood(guess_pred, counts)\n",
    "    return -guess_likelihood"
   ]
  },
  {
   "cell_type": "code",
   "execution_count": 137,
   "metadata": {
    "scrolled": true
   },
   "outputs": [
    {
     "name": "stdout",
     "output_type": "stream",
     "text": [
      "Optimization terminated successfully.\n",
      "         Current function value: 1091.209030\n",
      "         Iterations: 128\n",
      "         Function evaluations: 248\n"
     ]
    }
   ],
   "source": [
    "x0=[1e-10,-3.18,0.2]\n",
    "# Reference:\n",
    "# https://docs.scipy.org/doc/scipy/reference/tutorial/optimize.html\n",
    "res = minimize(func, x0, method='nelder-mead', options={'xatol': 1e-8, 'disp': True})"
   ]
  },
  {
   "cell_type": "code",
   "execution_count": 154,
   "metadata": {},
   "outputs": [],
   "source": [
    "guess_parameter=dict(zip(keys,res.x))\n",
    "guess_pred = get_pred_cube((energy_center, test_dx,test_dy), crab_skymodel,\\\n",
    "                            exposure, background, **guess_parameter)"
   ]
  },
  {
   "cell_type": "code",
   "execution_count": 155,
   "metadata": {
    "scrolled": true
   },
   "outputs": [
    {
     "data": {
      "text/plain": [
       "Text(0.5, 1.0, 'real')"
      ]
     },
     "execution_count": 155,
     "metadata": {},
     "output_type": "execute_result"
    },
    {
     "data": {
      "image/png": "[encoded data removed]",
      "text/plain": [
       "<Figure size 864x288 with 4 Axes>"
      ]
     },
     "metadata": {
      "needs_background": "light"
     },
     "output_type": "display_data"
    }
   ],
   "source": [
    "energy_index=2\n",
    "\n",
    "fig=plt.figure(figsize=(12,4))\n",
    "ax=plt.subplot(121)\n",
    "#plt.imshow(guess_pred[energy_index])\n",
    "plt.imshow(guess_pred.sum(axis=0))\n",
    "plt.colorbar()\n",
    "plt.title('predict')\n",
    "ax=plt.subplot(122)\n",
    "#plt.imshow(counts[energy_index])\n",
    "plt.imshow(counts.sum(axis=0))\n",
    "plt.colorbar()\n",
    "plt.title('real')"
   ]
  },
  {
   "cell_type": "code",
   "execution_count": null,
   "metadata": {},
   "outputs": [],
   "source": []
  },
  {
   "cell_type": "code",
   "execution_count": 248,
   "metadata": {},
   "outputs": [
    {
     "data": {
      "text/plain": [
       "10"
      ]
     },
     "execution_count": 248,
     "metadata": {},
     "output_type": "execute_result"
    },
    {
     "data": {
      "image/png": "[encoded data removed]",
      "text/plain": [
       "<Figure size 432x288 with 1 Axes>"
      ]
     },
     "metadata": {
      "needs_background": "light"
     },
     "output_type": "display_data"
    }
   ],
   "source": [
    "# y=np.logspace(1,10,10)\n",
    "x=np.linspace(1,10,10)\n",
    "plt.plot(x,y)\n",
    "len(y)"
   ]
  },
  {
   "cell_type": "code",
   "execution_count": 250,
   "metadata": {},
   "outputs": [],
   "source": [
    "class BaseGeomModel:\n",
    "    '''\n",
    "    Base class for geometry. \n",
    "    '''\n",
    "    \n",
    "    def __init__(self,skydir,width,binsz):\n",
    "        self.skydir=skydir\n",
    "        self.width=width\n",
    "        self.binsz=binsz\n",
    "\n",
    "        self.x_edge=np.arange(0,width[0]+binsz,binsz)-width[0]/2+skydir[0]\n",
    "        self.y_edge=np.arange(0,width[1]+binsz,binsz)-width[1]/2+skydir[1]\n",
    "        \n",
    "        self.x_center=(self.x_edge[:-1]+self.x_edge[1:])/2\n",
    "        self.y_center=(self.y_edge[:-1]+self.y_edge[1:])/2\n",
    "        \n",
    "class GaussianGeomModel(BaseGeomModel):\n",
    "    '''\n",
    "    Gaussian geometric Model\n",
    "    '''\n",
    "    \n",
    "    def __init__(self,sigma,*args):\n",
    "        self.sigma=sigma\n",
    "        super().__init__(*args)\n",
    "\n",
    "    @property\n",
    "    def spatial(self):\n",
    "        xx,yy=np.meshgrid(self.x_center,self.y_center)\n",
    "        return np.exp(-(xx**2 + yy**2) / (2 * self.sigma**2))\n",
    "    \n",
    "    \n",
    "class Axes:\n",
    "    '''\n",
    "    Base class for axes\n",
    "    '''\n",
    "    \n",
    "    def __init__(self,width,name,interp,kind,num):\n",
    "        self.width=width\n",
    "        self.name=name\n",
    "        self.interp=interp\n",
    "        self.kind=kind\n",
    "        self.num=num\n",
    "        \n",
    "        if kind=='log' & kind=='edge':\n",
    "            self.bands=np.logspace(width[0],width[1],num)\n",
    "            \n",
    "        \n",
    "class PowerLaw(Axes):\n",
    "    '''\n",
    "    \n",
    "    '''\n",
    "    \n",
    "    def __init__(self,prefactor,index,sigma):\n",
    "        self.prefactor=prefactor\n",
    "        self.index=index\n",
    "        self.parameters={'prefactor':prefactor,'index':index,'sigma':sigma}\n",
    "\n",
    "class Map:\n",
    "    \n",
    "    def __init__(self,geom,axes):\n",
    "        self.geom=geom\n",
    "        self.axes=axes"
   ]
  },
  {
   "cell_type": "code",
   "execution_count": 243,
   "metadata": {},
   "outputs": [
    {
     "data": {
      "text/plain": [
       "<matplotlib.image.AxesImage at 0x28d15218860>"
      ]
     },
     "execution_count": 243,
     "metadata": {},
     "output_type": "execute_result"
    },
    {
     "data": {
      "image/png": "[encoded data removed]",
      "text/plain": [
       "<Figure size 432x288 with 1 Axes>"
      ]
     },
     "metadata": {
      "needs_background": "light"
     },
     "output_type": "display_data"
    }
   ],
   "source": [
    "skydir=(0,0)\n",
    "width=(5,5)\n",
    "binsz=0.1\n",
    "\n",
    "test_model=GaussianGeomModel(0.4,skydir,width,binsz)\n",
    "\n",
    "\n",
    "plt.imshow(test_model.spatial)"
   ]
  },
  {
   "cell_type": "code",
   "execution_count": 234,
   "metadata": {},
   "outputs": [
    {
     "data": {
      "text/plain": [
       "array([[1.88170845e-055, 9.00113158e-057, 4.13685316e-058, ...,\n",
       "        2.77755945e-136, 2.02737699e-138, 1.42178485e-140],\n",
       "       [4.91445133e-055, 2.35082236e-056, 1.08042048e-057, ...,\n",
       "        7.25414223e-136, 5.29489333e-138, 3.71327048e-140],\n",
       "       [1.23317855e-054, 5.89889596e-056, 2.71108873e-057, ...,\n",
       "        1.82027494e-135, 1.32864249e-137, 9.31767393e-140],\n",
       "       ...,\n",
       "       [1.23317855e-054, 5.89889596e-056, 2.71108873e-057, ...,\n",
       "        1.82027494e-135, 1.32864249e-137, 9.31767393e-140],\n",
       "       [4.91445133e-055, 2.35082236e-056, 1.08042048e-057, ...,\n",
       "        7.25414223e-136, 5.29489333e-138, 3.71327048e-140],\n",
       "       [1.88170845e-055, 9.00113158e-057, 4.13685316e-058, ...,\n",
       "        2.77755945e-136, 2.02737699e-138, 1.42178485e-140]])"
      ]
     },
     "execution_count": 234,
     "metadata": {},
     "output_type": "execute_result"
    }
   ],
   "source": [
    "test_model._spatial"
   ]
  },
  {
   "cell_type": "code",
   "execution_count": 171,
   "metadata": {},
   "outputs": [],
   "source": [
    "skydir=(10,0)\n",
    "width=(5,5)\n",
    "binsz=0.1\n",
    "\n",
    "x_edge=np.arange(0,width[0],binsz)-width[0]/2+skydir[0]\n",
    "y_edge=np.arange(0,width[1],binsz)-width[1]/2+skydir[1]\n",
    "\n"
   ]
  },
  {
   "cell_type": "code",
   "execution_count": 173,
   "metadata": {},
   "outputs": [
    {
     "data": {
      "text/plain": [
       "array([-2.5, -2.4, -2.3, -2.2, -2.1, -2. , -1.9, -1.8, -1.7, -1.6, -1.5,\n",
       "       -1.4, -1.3, -1.2, -1.1, -1. , -0.9, -0.8, -0.7, -0.6, -0.5, -0.4,\n",
       "       -0.3, -0.2, -0.1,  0. ,  0.1,  0.2,  0.3,  0.4,  0.5,  0.6,  0.7,\n",
       "        0.8,  0.9,  1. ,  1.1,  1.2,  1.3,  1.4,  1.5,  1.6,  1.7,  1.8,\n",
       "        1.9,  2. ,  2.1,  2.2,  2.3,  2.4])"
      ]
     },
     "execution_count": 173,
     "metadata": {},
     "output_type": "execute_result"
    }
   ],
   "source": [
    "y_edge"
   ]
  },
  {
   "cell_type": "code",
   "execution_count": 157,
   "metadata": {},
   "outputs": [
    {
     "data": {
      "text/latex": [
       "$[2.5,~2.4,~2.3,~2.2,~2.1,~2,~1.9,~1.8,~1.7,~1.6,~1.5,~1.4,~1.3,~1.2,~1.1,~1,~0.9,~0.8,~0.7,~0.6,~0.5,~0.4,~0.3,~0.2,~0.1,~-0,~-0.1,~-0.2,~-0.3,~-0.4,~-0.5,~-0.6,~-0.7,~-0.8,~-0.9,~-1,~-1.1,~-1.2,~-1.3,~-1.4,~-1.5,~-1.6,~-1.7,~-1.8,~-1.9,~-2,~-2.1,~-2.2,~-2.3,~-2.4,~-2.5] \\; \\mathrm{{}^{\\circ}}$"
      ],
      "text/plain": [
       "<Quantity [ 2.5,  2.4,  2.3,  2.2,  2.1,  2. ,  1.9,  1.8,  1.7,  1.6,\n",
       "            1.5,  1.4,  1.3,  1.2,  1.1,  1. ,  0.9,  0.8,  0.7,  0.6,\n",
       "            0.5,  0.4,  0.3,  0.2,  0.1, -0. , -0.1, -0.2, -0.3, -0.4,\n",
       "           -0.5, -0.6, -0.7, -0.8, -0.9, -1. , -1.1, -1.2, -1.3, -1.4,\n",
       "           -1.5, -1.6, -1.7, -1.8, -1.9, -2. , -2.1, -2.2, -2.3, -2.4,\n",
       "           -2.5] deg>"
      ]
     },
     "execution_count": 157,
     "metadata": {},
     "output_type": "execute_result"
    }
   ],
   "source": [
    "dx_edges"
   ]
  },
  {
   "cell_type": "code",
   "execution_count": 156,
   "metadata": {},
   "outputs": [],
   "source": [
    "def read(fname):\n",
    "    return fits.open(fname, mode=\"readonly\")\n",
    "\n",
    "\n",
    "def get_flux(hdulist, axes):\n",
    "    pass\n",
    "\n",
    "def model_fit(data, axes, model, optimizer):\n",
    "    pass\n",
    "\n",
    "def crab_skymodel(axes, prefactor, index, sigma):\n",
    "    energy, delx, dely = axes\n",
    "\n",
    "    def crab_spatial(delx, dely):\n",
    "        return np.exp(-(delx**2 + dely**2) / (2 * sigma**2))\n",
    "\n",
    "    def crab_spctral(energy):\n",
    "        refernce_energy = 100 * u.GeV \n",
    "        return prefactor * (energy / refernce_energy)**index\n",
    "\n",
    "    # TODO: order of meshgrid is not clear\n",
    "    yy, ee, xx, = np.meshgrid(dely, energy, delx)\n",
    "    return crab_spatial(xx, yy) * crab_spctral(ee)\n",
    "\n",
    "\n",
    "def get_pred_cube(axes, model, exposure, background, **kwargs):\n",
    "    return model(axes, **kwargs) * exposure + background\n",
    "\n",
    "\n",
    "def get_likelihood(pred_cube, counts, **kwargs):\n",
    "    pred_total = np.sum(pred_cube)\n",
    "    # In order to avoid too large number for fatorial\n",
    "    # use Stirling's Approximation here, which is \n",
    "    # ln(n!) = n * ln(n) - n (first order approximation)\n",
    "    \n",
    "    # Only elements greater than 10 is valid\n",
    "    # TODO : use masked array to do condition slicing\n",
    "    # counts_masked = np.ma.masked_array(counts, mask=mask_large)\n",
    "    counts_masked = np.ma.masked_array(counts, mask=mask_large)\n",
    "    mask_large = counts > 10\n",
    "\n",
    "    counts_masked = counts.copy()\n",
    "    counts_factorial = np.zeros_like(counts)\n",
    "    counts_factorial[~mask_large] = np.log10(factorial(counts_masked[~mask_large]))\n",
    "    counts_factorial[mask_large] = counts_masked[mask_large] * np.log10(counts_masked[mask_large]) \\\n",
    "                                            - counts_masked[mask_large] * np.log10(np.e) \n",
    "    # For a given bin range, data_fatorial is reusable\n",
    "    data_factorial = np.sum(counts_factorial)\n",
    "    # TODO : What if element in pred_cube equals zero?\n",
    "    # To avoid zero division, add a tiny quantity to pred_cube\n",
    "    log_like = np.sum(counts * np.log10(pred_cube + 1e-12)) - data_factorial\n",
    "    log_like = -pred_total * np.log10(np.e) + log_like\n",
    "    return log_like\n"
   ]
  },
  {
   "cell_type": "code",
   "execution_count": 129,
   "metadata": {},
   "outputs": [
    {
     "data": {
      "text/plain": [
       "<matplotlib.image.AxesImage at 0x28d13620390>"
      ]
     },
     "execution_count": 129,
     "metadata": {},
     "output_type": "execute_result"
    },
    {
     "data": {
      "image/png": "[encoded data removed]",
      "text/plain": [
       "<Figure size 432x288 with 1 Axes>"
      ]
     },
     "metadata": {
      "needs_background": "light"
     },
     "output_type": "display_data"
    }
   ],
   "source": [
    "plt.imshow(guess_pred.sum(axis=0))"
   ]
  },
  {
   "cell_type": "code",
   "execution_count": 141,
   "metadata": {},
   "outputs": [
    {
     "data": {
      "text/plain": [
       "(40, 50)"
      ]
     },
     "execution_count": 141,
     "metadata": {},
     "output_type": "execute_result"
    }
   ],
   "source": [
    "guess_pred.sum(axis=0).shape"
   ]
  },
  {
   "cell_type": "code",
   "execution_count": 143,
   "metadata": {},
   "outputs": [
    {
     "data": {
      "text/latex": [
       "$[-1.95,~-1.85,~-1.75,~-1.65,~-1.55,~-1.45,~-1.35,~-1.25,~-1.15,~-1.05,~-0.95,~-0.85,~-0.75,~-0.65,~-0.55,~-0.45,~-0.35,~-0.25,~-0.15,~-0.05,~0.05,~0.15,~0.25,~0.35,~0.45,~0.55,~0.65,~0.75,~0.85,~0.95,~1.05,~1.15,~1.25,~1.35,~1.45,~1.55,~1.65,~1.75,~1.85,~1.95] \\; \\mathrm{{}^{\\circ}}$"
      ],
      "text/plain": [
       "<Quantity [-1.95, -1.85, -1.75, -1.65, -1.55, -1.45, -1.35, -1.25, -1.15,\n",
       "           -1.05, -0.95, -0.85, -0.75, -0.65, -0.55, -0.45, -0.35, -0.25,\n",
       "           -0.15, -0.05,  0.05,  0.15,  0.25,  0.35,  0.45,  0.55,  0.65,\n",
       "            0.75,  0.85,  0.95,  1.05,  1.15,  1.25,  1.35,  1.45,  1.55,\n",
       "            1.65,  1.75,  1.85,  1.95] deg>"
      ]
     },
     "execution_count": 143,
     "metadata": {},
     "output_type": "execute_result"
    }
   ],
   "source": [
    "dy"
   ]
  },
  {
   "cell_type": "code",
   "execution_count": null,
   "metadata": {},
   "outputs": [],
   "source": []
  },
  {
   "cell_type": "code",
   "execution_count": null,
   "metadata": {},
   "outputs": [],
   "source": []
  },
  {
   "cell_type": "code",
   "execution_count": null,
   "metadata": {},
   "outputs": [],
   "source": []
  },
  {
   "cell_type": "code",
   "execution_count": null,
   "metadata": {},
   "outputs": [],
   "source": []
  },
  {
   "cell_type": "code",
   "execution_count": null,
   "metadata": {},
   "outputs": [],
   "source": []
  }
 ],
 "metadata": {
  "kernelspec": {
   "display_name": "Python 3",
   "language": "python",
   "name": "python3"
  },
  "language_info": {
   "codemirror_mode": {
    "name": "ipython",
    "version": 3
   },
   "file_extension": ".py",
   "mimetype": "text/x-python",
   "name": "python",
   "nbconvert_exporter": "python",
   "pygments_lexer": "ipython3",
   "version": "3.7.0"
  }
 },
 "nbformat": 4,
 "nbformat_minor": 2
}
