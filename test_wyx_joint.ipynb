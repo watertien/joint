{
 "cells": [
  {
   "cell_type": "markdown",
   "metadata": {},
   "source": [
    "用于测试 class  "
   ]
  },
  {
   "cell_type": "code",
   "execution_count": 13,
   "metadata": {},
   "outputs": [],
   "source": [
    "import numpy as np\n",
    "import matplotlib.pyplot as plt\n",
    "\n",
    "from scipy.optimize import minimize\n",
    "from scipy.special import factorial \n",
    "from scipy.signal import convolve2d\n",
    "\n",
    "import astropy.units as u\n",
    "from astropy.table import Table"
   ]
  },
  {
   "cell_type": "markdown",
   "metadata": {},
   "source": [
    "# 参数类  \n",
    "现在，按照以下规则对模型的所有参数进行分类：  \n",
    "\n",
    "* 可变参数:  \n",
    "    在 fit 时，可能发生变化的参数。值得注意的是，当你在 fit 时，你可以冻结任意可变参数，从而让他们不会变化。  \n",
    "* 不可变参数：  \n",
    "    在 fit 时，不发生变化的参数。  \n",
    "    \n",
    "所有的可变参数由`Parameters`类统一管理，单个可变参数是`parameter`的实例。"
   ]
  },
  {
   "cell_type": "code",
   "execution_count": 246,
   "metadata": {},
   "outputs": [],
   "source": [
    "class Parameter:\n",
    "    '''\n",
    "    Base class for parameter.\n",
    "    '''\n",
    "    \n",
    "    def __init__(self,name,value,unit='',frozen=False):\n",
    "        self.name=name\n",
    "        self.value=value\n",
    "        self.unit=u.Unit(unit)\n",
    "        self.frozen=frozen\n",
    "\n",
    "    def __str__(self):\n",
    "        ss = f'{self.__class__.__name__}\\n'\n",
    "        \n",
    "        ss+='\\t{:^12} {:^12} {:^16} {:^12}\\n'.format('name','value','unit','frozen')\n",
    "        \n",
    "        separator='-'*8\n",
    "        ss+='\\t{:-^12} {:-^12} {:-^16} {:-^12}\\n'.format(separator,separator,separator,separator)\n",
    "        ss+='\\t{:>12} {:>12.2f} {:>16} {:>12}\\n'.format(self.name,self.value,self.unit,str(self.frozen))\n",
    "        \n",
    "        return ss\n",
    "    \n",
    "    def __repr__(self):\n",
    "        return (\n",
    "            f\"{self.__class__.__name__}(name={self.name!r},\\tvalue={self.value!r},\\t\"\n",
    "            f\"unit={self.unit!r},\\tfrozen={self.frozen!r}) \"\n",
    "        )\n",
    "    \n",
    "    @property\n",
    "    def quantity(self):\n",
    "        return self.value*self.unit\n",
    "    \n",
    "    @quantity.setter\n",
    "    def quantity(self,val):\n",
    "        val=u.Quantity(val,unit=self.unit)\n",
    "        self.value=val.value\n",
    "        self.unit=val.unit\n",
    "\n",
    "    \n",
    "class Parameters:\n",
    "    '''\n",
    "    List of `parameter`.\n",
    "    '''\n",
    "    \n",
    "    def __init__(self,parameters=None):\n",
    "        if parameters is None:\n",
    "            parameters = []\n",
    "        \n",
    "        else:\n",
    "            self.parameters = parameters\n",
    "        \n",
    "    def __add__(self,other):\n",
    "        return Parameters(self.parameters+other.parameters)\n",
    "    \n",
    "    def _get_idx(self,key):\n",
    "        if isinstance(key,int):\n",
    "            return key\n",
    "        elif isinstance(key,str):\n",
    "            for idx,p in enumerate(self.parameters):\n",
    "                if key==p.name:\n",
    "                    return idx\n",
    "        elif isinstance(key,Parameter):\n",
    "            return self.parameters.index(key)\n",
    "    \n",
    "    def __getitem__(self,key):\n",
    "        idx=self._get_idx(key)\n",
    "        return self.parameters[idx]\n",
    "    \n",
    "    def __setitem__(self,key,value):\n",
    "        idx=self._get_idx(key)\n",
    "        self.parameters[idx].quantity=value\n",
    "    \n",
    "    def __str__(self):\n",
    "        ss = f'{self.__class__.__name__}\\n'\n",
    "        \n",
    "        ss+='\\t{:^12} {:^12} {:^16} {:^12}\\n'.format('name','value','unit','frozen')\n",
    "        separator='-'*8\n",
    "        ss+='\\t{:-^12} {:-^12} {:-^16} {:-^12}\\n'.format(separator,separator,separator,separator)\n",
    "        \n",
    "        for p in self.parameters:\n",
    "            ss+='\\t{:>12} {:>12.2e} {:>16} {:>12}\\n'.format(p.name,p.value,p.unit,str(p.frozen))\n",
    "        return ss\n",
    "        \n",
    "    def __repr__(self):\n",
    "        ss = f'{self.__class__.__name__}[\\n'\n",
    "        for p in self.parameters:\n",
    "            ss+=f\"(name={p.name!r},\\tvalue={p.value!r},\\tunit={p.unit!r},\\tfrozen={p.frozen!r})\\n\"\n",
    "        ss+=']'\n",
    "        return ss\n",
    "        \n",
    "    @property\n",
    "    def names(self):\n",
    "        return [p.name for p in self.parameters]\n",
    "    \n",
    "    @property\n",
    "    def values(self):\n",
    "        return [p.value for p in self.parameters]\n",
    "    \n",
    "    @property\n",
    "    def units(self):\n",
    "        return [p.unit for p in self.parameters]\n",
    "    \n",
    "    @property\n",
    "    def quantitys(self):\n",
    "        return [p.quantity for p in self.parameters]\n",
    "    \n",
    "    @property\n",
    "    def frozens(self):\n",
    "        return [p.frozen for p in self.parameters]\n",
    "    \n",
    "    @property\n",
    "    def free_parameters(self):\n",
    "        return [p for p in self.parameters if not p.frozen]\n",
    "    \n",
    "    @property\n",
    "    def free_values(self):\n",
    "        return [p.value for p in self.parameters if not p.frozen]\n",
    "        \n",
    "    @property\n",
    "    def free_names(self):\n",
    "        return [p.name for p in self.parameters if not p.frozen]\n",
    "    \n",
    "    def set_parameters(self,keys,values):\n",
    "        if isinstance(keys,list):\n",
    "            for key,value in zip(keys,values):\n",
    "                idx=self._get_idx(key)\n",
    "                self.parameters[idx].quantity=value\n",
    "        \n",
    "        else:\n",
    "            idx=self._get_idx(keys)\n",
    "            self.parameters[idx].quantity=values\n",
    "    \n",
    "    def to_table(self):\n",
    "        t = Table()\n",
    "        t['name']=self.names\n",
    "        t['value']=self.values\n",
    "        t['unit']=self.units\n",
    "        t['frozen']=self.frozens\n",
    "        return t"
   ]
  },
  {
   "cell_type": "markdown",
   "metadata": {},
   "source": [
    "Parameter 类的实例以及修改：  "
   ]
  },
  {
   "cell_type": "code",
   "execution_count": 247,
   "metadata": {},
   "outputs": [
    {
     "name": "stdout",
     "output_type": "stream",
     "text": [
      "Parameter\n",
      "\t    name        value           unit          frozen   \n",
      "\t------------ ------------ ---------------- ------------\n",
      "\t           A         3.00  1 / (cm2 GeV s)        False\n",
      "\n",
      "Parameter\n",
      "\t    name        value           unit          frozen   \n",
      "\t------------ ------------ ---------------- ------------\n",
      "\t           A         2.00  1 / (cm2 GeV s)        False\n",
      "\n"
     ]
    }
   ],
   "source": [
    "para1=Parameter('A',3,u.Unit(\"cm-2 s-1 GeV-1\"))\n",
    "print(para1)\n",
    "\n",
    "para1.quantity=2\n",
    "print(para1)"
   ]
  },
  {
   "cell_type": "markdown",
   "metadata": {},
   "source": [
    "Parameters 的实例"
   ]
  },
  {
   "cell_type": "code",
   "execution_count": 245,
   "metadata": {},
   "outputs": [
    {
     "name": "stdout",
     "output_type": "stream",
     "text": [
      "Parameters\n",
      "\t    name        value           unit          frozen   \n",
      "\t------------ ------------ ---------------- ------------\n",
      "\t           A     2.00e+00  1 / (cm2 GeV s)        False\n",
      "\t           B     2.00e+00               m2        False\n",
      " \n",
      "\n",
      "names:\t ['A', 'B']\n",
      "units:\t [Unit(\"1 / (cm2 GeV s)\"), Unit(\"m2\")]\n",
      "\n",
      "Merge two `Parameters` into one:\n",
      "Parameters\n",
      "\t    name        value           unit          frozen   \n",
      "\t------------ ------------ ---------------- ------------\n",
      "\t           A     2.00e+00  1 / (cm2 GeV s)        False\n",
      "\t           B     2.00e+00               m2        False\n",
      "\t           C     1.00e-01              deg        False\n",
      "\n"
     ]
    }
   ],
   "source": [
    "para2=Parameter('B',2,u.Unit(\"m2\"))\n",
    "para3=Parameter('C',0.1,u.Unit('deg'))\n",
    "\n",
    "paras1=Parameters([para1,para2])\n",
    "print(paras1,'\\n')\n",
    "print('names:\\t',paras1.names)\n",
    "print('units:\\t',paras1.units)\n",
    "\n",
    "# Merge two `Parameters` into one.\n",
    "print('\\nMerge two `Parameters` into one:')\n",
    "paras2=Parameters([para3])\n",
    "paras3=paras1+paras2\n",
    "print(paras3)"
   ]
  },
  {
   "cell_type": "markdown",
   "metadata": {},
   "source": [
    "Parameters 的修改"
   ]
  },
  {
   "cell_type": "code",
   "execution_count": 242,
   "metadata": {},
   "outputs": [
    {
     "name": "stdout",
     "output_type": "stream",
     "text": [
      "Parameters\n",
      "\t    name        value           unit          frozen   \n",
      "\t------------ ------------ ---------------- ------------\n",
      "\t           A     3.00e+00  1 / (cm2 GeV s)        False\n",
      "\t           B     2.00e+00               m2         True\n",
      "\t           C     1.00e-01              deg        False\n",
      "\n"
     ]
    }
   ],
   "source": [
    "paras3['A'].quantity=3\n",
    "paras3['B'].frozen=True\n",
    "\n",
    "print(paras3)"
   ]
  },
  {
   "cell_type": "code",
   "execution_count": 407,
   "metadata": {},
   "outputs": [],
   "source": [
    "class BaseSpatialModel:\n",
    "    '''\n",
    "    Base class for geometry. \n",
    "    '''\n",
    "\n",
    "    def __init__(self, skydir, width, binsz, unit='deg',prefactor_unit='GeV-1'):\n",
    "        self.unit=u.Unit(unit)\n",
    "        self.skydir = skydir*self.unit\n",
    "        self.width = width*self.unit\n",
    "        self.binsz = binsz*self.unit\n",
    "        self.prefactor_unit=u.Unit(prefactor_unit)\n",
    "        \n",
    "        self.x_edge = (np.arange(0, width[0]+binsz, binsz)-width[0]/2+skydir[0])*self.unit\n",
    "        self.y_edge = (np.arange(0, width[1]+binsz, binsz)-width[1]/2+skydir[1])*self.unit\n",
    "\n",
    "        self.x_center = ((self.x_edge[:-1]+self.x_edge[1:])/2)\n",
    "        self.y_center = ((self.y_edge[:-1]+self.y_edge[1:])/2)\n",
    "        \n",
    "    def __str__(self):\n",
    "        ss = f'{self.__class__.__name__}\\n\\n'\n",
    "        ss += '\\t{:<12} : {}\\n'.format('skydir',str(self.skydir))\n",
    "        ss += '\\t{:<12} : {}\\n'.format('width',str(self.width))\n",
    "        ss += '\\t{:<12} : {}\\n'.format('binsz',self.binsz)\n",
    "        return ss\n",
    "    \n",
    "    def __repr__(self):\n",
    "        return self.__str__()\n",
    "\n",
    "class GaussianSpatialModel(BaseSpatialModel):\n",
    "    '''\n",
    "    Gaussian geometric Model\n",
    "    '''\n",
    "\n",
    "    def __init__(self, sigma,unit='deg', *args):\n",
    "        if not isinstance(sigma,Parameter):\n",
    "            sigma=Parameter('sigma',sigma,unit)\n",
    "        \n",
    "        self.parameters=Parameters([sigma])\n",
    "        super().__init__(*args)\n",
    "\n",
    "    def __str__(self):\n",
    "        ss = super().__str__()\n",
    "        ss += '\\t{:<12} : {}\\n'.format('sigma',self.sigma)\n",
    "        return ss\n",
    "        \n",
    "    @property\n",
    "    def sigma(self):\n",
    "        return self.parameters['sigma'].quantity\n",
    "    \n",
    "    @sigma.setter\n",
    "    def sigma(self,value):\n",
    "        self.parameters['sigma']=value\n",
    "\n",
    "    @property\n",
    "    def spatial(self,unit='GeV-1'):\n",
    "        xx, yy = np.meshgrid(self.x_center, self.y_center)\n",
    "        return np.exp(-(xx**2 + yy**2) / (2 * self.sigma**2)).T*self.prefactor_unit"
   ]
  },
  {
   "cell_type": "code",
   "execution_count": 408,
   "metadata": {},
   "outputs": [
    {
     "name": "stdout",
     "output_type": "stream",
     "text": [
      "GaussianSpatialModel\n",
      "\n",
      "\tskydir       : [0. 0.] deg\n",
      "\twidth        : [4. 5.] deg\n",
      "\tbinsz        : 0.1 deg\n",
      "\tsigma        : 0.2 deg\n",
      "\n"
     ]
    },
    {
     "data": {
      "text/latex": [
       "$[-1.95,~-1.85,~-1.75,~-1.65,~-1.55,~-1.45,~-1.35,~-1.25,~-1.15,~-1.05,~-0.95,~-0.85,~-0.75,~-0.65,~-0.55,~-0.45,~-0.35,~-0.25,~-0.15,~-0.05,~0.05,~0.15,~0.25,~0.35,~0.45,~0.55,~0.65,~0.75,~0.85,~0.95,~1.05,~1.15,~1.25,~1.35,~1.45,~1.55,~1.65,~1.75,~1.85,~1.95] \\; \\mathrm{{}^{\\circ}}$"
      ],
      "text/plain": [
       "<Quantity [-1.95, -1.85, -1.75, -1.65, -1.55, -1.45, -1.35, -1.25, -1.15,\n",
       "           -1.05, -0.95, -0.85, -0.75, -0.65, -0.55, -0.45, -0.35, -0.25,\n",
       "           -0.15, -0.05,  0.05,  0.15,  0.25,  0.35,  0.45,  0.55,  0.65,\n",
       "            0.75,  0.85,  0.95,  1.05,  1.15,  1.25,  1.35,  1.45,  1.55,\n",
       "            1.65,  1.75,  1.85,  1.95] deg>"
      ]
     },
     "execution_count": 408,
     "metadata": {},
     "output_type": "execute_result"
    }
   ],
   "source": [
    "skydir=(0,0)\n",
    "width=(4,5)\n",
    "binsz=0.1\n",
    "test_gaussian_spatial=GaussianSpatialModel(0.2,'deg',skydir,width,binsz)\n",
    "print(test_gaussian_spatial)\n",
    "test_gaussian_spatial.x_center"
   ]
  },
  {
   "cell_type": "code",
   "execution_count": 258,
   "metadata": {},
   "outputs": [
    {
     "name": "stdout",
     "output_type": "stream",
     "text": [
      "GaussianSpatialModel\n",
      "\n",
      "\tskydir       : [0. 0.] deg\n",
      "\twidth        : [4. 5.] deg\n",
      "\tbinsz        : 0.1 deg\n",
      "\tsigma        : 0.5 deg\n",
      "\n"
     ]
    }
   ],
   "source": [
    "test_gaussian_spatial.sigma=0.5\n",
    "print(test_gaussian_spatial)"
   ]
  },
  {
   "cell_type": "code",
   "execution_count": 254,
   "metadata": {},
   "outputs": [],
   "source": [
    "class Axes:\n",
    "    '''\n",
    "    Base class for axes\n",
    "    '''\n",
    "    \n",
    "    def __init__(self,name=None,unit=''):\n",
    "        self.name=name\n",
    "        self.unit=u.Unit(unit)\n",
    "        self.edges=None\n",
    "        self.centers=None\n",
    "    \n",
    "    def make_edges(self,width=(-2,2),interp='log',num=10):\n",
    "        if interp=='log':\n",
    "            edges=np.linspace(width[0],width[1],num)\n",
    "            centers=(edges[1:]+edges[:-1])/2\n",
    "            \n",
    "            self.edges=np.power(10,edges)*self.unit\n",
    "            self.centers=np.power(10,centers)*self.unit\n",
    "            \n",
    "    def from_edges(self,edges):\n",
    "        self.edges=edges\n",
    "        \n",
    "        # Calculate the centers.\n",
    "        edges=np.log10(edges)\n",
    "        centers=(edges[:-1]+edges[1:])/2\n",
    "        self.centers=np.power(10,centers)\n",
    "        \n",
    "    def __str__(self):\n",
    "        ss = f'{self.__class__.__name__}\\n'\n",
    "        ss += '\\t{:<12} : {}\\n'.format('name',self.name)\n",
    "        return ss\n",
    "    \n",
    "class PowerLawSpctralModel(Axes):\n",
    "    '''\n",
    "    \n",
    "    '''\n",
    "    \n",
    "    def __init__(self,prefactor,index,reference_energy,*args,**kwargs):\n",
    "        \n",
    "        if not isinstance(prefactor,Parameter):\n",
    "            prefactor=Parameter('prefactor',prefactor,kwargs['unit'])\n",
    "        \n",
    "        if not isinstance(index,Parameter):\n",
    "            index=Parameter('index',index)\n",
    "            \n",
    "        if not isinstance(reference_energy,Parameter):\n",
    "            reference_energy=Parameter('Eref',reference_energy,kwargs['unit'])\n",
    "            \n",
    "        self.parameters=Parameters([prefactor,index,reference_energy])\n",
    "        super().__init__(*args,**kwargs)\n",
    "        #self.parameters={'prefactor':prefactor,'index':index,'sigma':sigma}\n",
    "        \n",
    "    def __str__(self):\n",
    "        ss = super().__str__()\n",
    "        for p in self.parameters:\n",
    "            ss+=f'\\t{p.name:<12} : {p.quantity}\\n'\n",
    "        return ss\n",
    "    \n",
    "    @property\n",
    "    def prefactor(self):\n",
    "        return self.parameters['prefactor'].quantity\n",
    "    \n",
    "    @prefactor.setter\n",
    "    def prefactor(self,value):\n",
    "        self.parameters['prefactor']=value\n",
    "        \n",
    "    @property\n",
    "    def index(self):\n",
    "        return self.parameters['index'].quantity\n",
    "    \n",
    "    @index.setter\n",
    "    def index(self,value):\n",
    "        self.parameters['index']=value\n",
    "        \n",
    "    @property\n",
    "    def reference_energy(self):\n",
    "        return self.parameters['Eref'].quantity\n",
    "    \n",
    "    @reference_energy.setter\n",
    "    def reference_energy(self,value):\n",
    "        self.parameters['Eref']=value\n",
    "        \n",
    "    @property\n",
    "    def spectrum(self):\n",
    "        return self.prefactor * (self.centers / self.reference_energy)**self.index"
   ]
  },
  {
   "cell_type": "code",
   "execution_count": 401,
   "metadata": {},
   "outputs": [
    {
     "name": "stdout",
     "output_type": "stream",
     "text": [
      "PowerLawSpctralModel\n",
      "\tname         : Energy\n",
      "\tprefactor    : 1e-10 GeV / (cm2 s)\n",
      "\tindex        : -2.0\n",
      "\tEref         : 1.0 GeV / (cm2 s)\n",
      "\n"
     ]
    }
   ],
   "source": [
    "test_energy_axes=PowerLawSpctralModel(1e-10,-2,1,name='Energy',unit='GeV cm-2 s-1')\n",
    "test_energy_axes.make_edges(width=(np.log10(0.01),np.log10(2)),num=6)\n",
    "\n",
    "print(test_energy_axes)"
   ]
  },
  {
   "cell_type": "markdown",
   "metadata": {},
   "source": [
    "# 临时数据结构  \n",
    "以后有待改进。"
   ]
  },
  {
   "cell_type": "code",
   "execution_count": 377,
   "metadata": {},
   "outputs": [],
   "source": [
    "class TempData:\n",
    "    def __init__(self,data,unit):\n",
    "        if data is not None:\n",
    "            data*=unit\n",
    "        self.data=data"
   ]
  },
  {
   "cell_type": "code",
   "execution_count": 378,
   "metadata": {},
   "outputs": [],
   "source": [
    "from astropy.io import fits\n",
    "fname = \"Fermi-LAT-3FHL_data_Fermi-LAT.fits\"\n",
    "hdul=fits.open(fname)\n",
    "\n",
    "counts=hdul[\"COUNTS\"].data\n",
    "exposure = TempData(hdul[\"EXPOSURE\"].data,u.Unit(''))\n",
    "background = TempData(hdul[\"BACKGROUND\"].data,u.Unit('TeV'))"
   ]
  },
  {
   "cell_type": "markdown",
   "metadata": {},
   "source": [
    "# 综合模型  \n",
    "将空间模型、能量模型、曝光、背景、点扩散结合起来的综合模型。"
   ]
  },
  {
   "cell_type": "code",
   "execution_count": 374,
   "metadata": {},
   "outputs": [],
   "source": [
    "class MapModel:\n",
    "    \n",
    "    def __init__(self,geom=None,axes=None,exposure=None, background=None,psf_kernel=None):\n",
    "        self.geom=geom\n",
    "        self.axes=axes\n",
    "        self.exposure=exposure.data\n",
    "        self.background=background.data\n",
    "        self.psf_kernel=psf_kernel\n",
    "        \n",
    "        self.parameters=self.geom.parameters+self.axes.parameters\n",
    "        \n",
    "    def predict(self):\n",
    "        spectrum=self.axes.spectrum\n",
    "        spatial=self.geom.spatial\n",
    "\n",
    "        spectrum_shape=spectrum.shape\n",
    "        spatial_shape=spatial.shape\n",
    "\n",
    "        spectrum=np.tile(spectrum,spatial_shape+(1,)).T.reshape(spectrum_shape+spatial_shape)\n",
    "        spatial=np.tile(spatial,spectrum_shape+(1,1))\n",
    "        \n",
    "        counts=spatial*spectrum*self.exposure+self.background\n",
    "        return counts\n",
    "    \n",
    "    def psf_convolve(self):\n",
    "        counts3D=self.predict()\n",
    "        if counts3D.ndim != self.psf_kernel.ndim:\n",
    "            raise ValueError(\"Input arrays must have the same dimension\\n\"\n",
    "                              f\"(pred_cube{counts3D.shape}, psf_cube{self.psf_kernel.shape}\")\n",
    "        data_convolved=np.asarray([convolve2d(counts2D,kernel2D,mode='same') for counts2D,kernel2D in zip(counts3D,self.psf_kernel)])\n",
    "        return data_convolved\n",
    "\n",
    "    def likelihood(self, counts, **kwargs):\n",
    "        pred_cube=self.predict()\n",
    "        if self.psf_kernel is not None:\n",
    "            pred_cube=self.psf_convolve()\n",
    "        pred_total = np.sum(pred_cube)\n",
    "        # In order to avoid too large number for fatorial\n",
    "        # use Stirling's Approximation here, which is \n",
    "        # ln(n!) = n * ln(n) - n (first order approximation)\n",
    "\n",
    "        # Only elements greater than 10 is valid\n",
    "        # TODO : use masked array to do condition slicing\n",
    "        # counts_masked = np.ma.masked_array(counts, mask=mask_large)\n",
    "        mask_large = counts > 10\n",
    "        counts_masked = np.ma.masked_array(counts, mask=mask_large)\n",
    "\n",
    "        counts_masked = counts.copy()\n",
    "        counts_factorial = np.zeros_like(counts)\n",
    "        counts_factorial[~mask_large] = np.log10(factorial(counts_masked[~mask_large]))\n",
    "        counts_factorial[mask_large] = counts_masked[mask_large] * np.log10(counts_masked[mask_large]) \\\n",
    "                                                - counts_masked[mask_large] * np.log10(np.e) \n",
    "        # For a given bin range, data_fatorial is reusable\n",
    "        data_factorial = np.sum(counts_factorial)\n",
    "        # TODO : What if element in pred_cube equals zero?\n",
    "        # To avoid zero division, add a tiny quantity to pred_cube\n",
    "        log_like = np.sum(counts * np.log10(pred_cube + 1e-12)) - data_factorial\n",
    "        log_like = -pred_total * np.log10(np.e) + log_like\n",
    "        return log_like\n",
    "    \n",
    "    def fit(self,counts,method='nelder-mead'):\n",
    "        def fun(x):\n",
    "            self.parameters.set_parameters(self.parameters.free_names,x)\n",
    "            return -self.likelihood(counts)\n",
    "        \n",
    "        x0=self.parameters.free_values\n",
    "        res = minimize(fun, x0, method=method, options={'xatol': 1e-8, 'disp': True})\n",
    "        self.parameters.set_parameters(self.parameters.free_names,res.x)\n",
    "        \n",
    "        return res\n",
    "    \n",
    "    @property\n",
    "    def flux(self):\n",
    "        pred_spectrum=self.predict()\n",
    "        return pred_spectrum.sum(axis=(1,2))\n",
    "    \n",
    "    def plot_flux(self,counts):\n",
    "        plt.plot(self.axes.centers,self.flux,label='pred')\n",
    "        plt.plot(self.axes.centers,counts.sum(axis=(1,2)),label='real')\n",
    "        #plt.xticks(self.axes.centers,np.around(self.axes.centers,4))\n",
    "        plt.xlabel('Energy')\n",
    "        plt.ylabel('counts')\n",
    "        plt.title('flux')\n",
    "        plt.legend()"
   ]
  },
  {
   "cell_type": "code",
   "execution_count": 410,
   "metadata": {
    "scrolled": true
   },
   "outputs": [
    {
     "name": "stdout",
     "output_type": "stream",
     "text": [
      "Parameters\n",
      "\t    name        value           unit          frozen   \n",
      "\t------------ ------------ ---------------- ------------\n",
      "\t       sigma     2.00e-01              deg        False\n",
      "\t   prefactor     1.00e-10    GeV / (cm2 s)        False\n",
      "\t       index    -2.00e+00                         False\n",
      "\t        Eref     1.00e+02    GeV / (cm2 s)         True\n",
      "\n"
     ]
    }
   ],
   "source": [
    "from astropy.io import fits\n",
    "fname = \"Fermi-LAT-3FHL_data_Fermi-LAT.fits\"\n",
    "hdul=fits.open(fname)\n",
    "\n",
    "# Load data.\n",
    "counts=hdul[\"COUNTS\"].data\n",
    "exposure = TempData(hdul[\"EXPOSURE\"].data,u.Unit('cm2 s'))\n",
    "background = TempData(hdul[\"BACKGROUND\"].data,u.Unit(''))\n",
    "psf_kernel = hdul['PSF_KERNEL'].data * u.Unit('')\n",
    "\n",
    "# Spatial model\n",
    "skydir=(0,0)\n",
    "width=(4,5)\n",
    "binsz=0.1\n",
    "test_model=GaussianSpatialModel(0.2,'deg',skydir,width,binsz)\n",
    "\n",
    "# Spectrum model\n",
    "energy_axes=PowerLawSpctralModel(1e-10,-2,100,name='Energy',unit='GeV cm-2 s-1')\n",
    "energy_axes.parameters['Eref'].frozen=True\n",
    "energy_axes.make_edges(width=(np.log10(0.01),np.log10(2)),num=6)\n",
    "\n",
    "test_map=MapModel(geom=test_model,\n",
    "                  axes=energy_axes,\n",
    "                  exposure=exposure,\n",
    "                  background=background,\n",
    "                  psf_kernel=psf_kernel)\n",
    "print(test_map.parameters)"
   ]
  },
  {
   "cell_type": "code",
   "execution_count": 412,
   "metadata": {
    "scrolled": false
   },
   "outputs": [
    {
     "name": "stdout",
     "output_type": "stream",
     "text": [
      "Optimization terminated successfully.\n",
      "         Current function value: 850.476147\n",
      "         Iterations: 168\n",
      "         Function evaluations: 307\n",
      "Parameters\n",
      "\t    name        value           unit          frozen   \n",
      "\t------------ ------------ ---------------- ------------\n",
      "\t       sigma     1.76e-02              deg        False\n",
      "\t   prefactor     1.46e-10    GeV / (cm2 s)        False\n",
      "\t       index    -1.20e+00                         False\n",
      "\t        Eref     1.00e+02    GeV / (cm2 s)         True\n",
      "\n"
     ]
    }
   ],
   "source": [
    "res=test_map.fit(counts)\n",
    "print(test_map.parameters)"
   ]
  },
  {
   "cell_type": "markdown",
   "metadata": {},
   "source": [
    "## 冻结 `sigma`，拟合"
   ]
  },
  {
   "cell_type": "code",
   "execution_count": 231,
   "metadata": {},
   "outputs": [
    {
     "name": "stdout",
     "output_type": "stream",
     "text": [
      "Parameters\n",
      "\t    name        value           unit          frozen   \n",
      "\t------------ ------------ ---------------- ------------\n",
      "\t       sigma     9.74e-02              deg         True\n",
      "\t   prefactor     1.00e-10              TeV        False\n",
      "\t       index    -2.00e+00                         False\n",
      "\t        Eref     1.00e+02              TeV         True\n",
      "\n"
     ]
    }
   ],
   "source": [
    "test_map.parameters['sigma'].frozen=True\n",
    "test_map.parameters.set_parameters(test_map.parameters.free_names,[1e-10,-2])\n",
    "print(test_map.parameters)"
   ]
  },
  {
   "cell_type": "code",
   "execution_count": 232,
   "metadata": {},
   "outputs": [
    {
     "name": "stdout",
     "output_type": "stream",
     "text": [
      "Optimization terminated successfully.\n",
      "         Current function value: 1091.209030\n",
      "         Iterations: 168\n",
      "         Function evaluations: 318\n",
      "Parameters\n",
      "\t    name        value           unit          frozen   \n",
      "\t------------ ------------ ---------------- ------------\n",
      "\t       sigma     9.74e-02              deg         True\n",
      "\t   prefactor     3.53e-14              TeV        False\n",
      "\t       index    -1.17e+00                         False\n",
      "\t        Eref     1.00e+02              TeV         True\n",
      "\n"
     ]
    }
   ],
   "source": [
    "res=test_map.fit(counts)\n",
    "print(test_map.parameters)"
   ]
  },
  {
   "cell_type": "code",
   "execution_count": null,
   "metadata": {},
   "outputs": [],
   "source": []
  }
 ],
 "metadata": {
  "kernelspec": {
   "display_name": "Python 3",
   "language": "python",
   "name": "python3"
  },
  "language_info": {
   "codemirror_mode": {
    "name": "ipython",
    "version": 3
   },
   "file_extension": ".py",
   "mimetype": "text/x-python",
   "name": "python",
   "nbconvert_exporter": "python",
   "pygments_lexer": "ipython3",
   "version": "3.7.4"
  },
  "toc": {
   "base_numbering": 1,
   "nav_menu": {},
   "number_sections": true,
   "sideBar": true,
   "skip_h1_title": false,
   "title_cell": "Table of Contents",
   "title_sidebar": "Contents",
   "toc_cell": false,
   "toc_position": {},
   "toc_section_display": true,
   "toc_window_display": false
  }
 },
 "nbformat": 4,
 "nbformat_minor": 2
}
